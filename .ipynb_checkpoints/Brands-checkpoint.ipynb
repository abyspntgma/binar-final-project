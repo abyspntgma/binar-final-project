{
 "cells": [
  {
   "cell_type": "code",
   "execution_count": 38,
   "metadata": {},
   "outputs": [],
   "source": [
    "import requests\n",
    "import hashlib\n",
    "import json\n",
    "import datetime\n",
    "from google.cloud import bigquery\n",
    "from google.oauth2 import service_account"
   ]
  },
  {
   "cell_type": "code",
   "execution_count": 39,
   "metadata": {},
   "outputs": [],
   "source": [
    "url_endpoint = 'https://api-mobilespecs.azharimm.site/v2/brands'\n",
    "SA_CREDENTIALS_FILE = 'credentials-kelompok-3.json' "
   ]
  },
  {
   "cell_type": "code",
   "execution_count": 40,
   "metadata": {},
   "outputs": [],
   "source": [
    "def extract(key):\n",
    "    response = requests.get(key)\n",
    "    return response.json()"
   ]
  },
  {
   "cell_type": "code",
   "execution_count": 41,
   "metadata": {},
   "outputs": [],
   "source": [
    "def transform(raw_data):\n",
    "    transformed_data = []\n",
    "    for data in raw_data:\n",
    "        transformed_data.append(\n",
    "            {\n",
    "                'super_key': hashlib.md5(str(data).encode()).hexdigest(),\n",
    "                'raw_brand': json.dumps(data),\n",
    "                'input-time': datetime.datetime.now().strftime(\"%Y-%m-%d %H:%M:%S\")\n",
    "            }\n",
    "        )\n",
    "    return transformed_data"
   ]
  },
  {
   "cell_type": "code",
   "execution_count": 42,
   "metadata": {},
   "outputs": [],
   "source": [
    "def load(transformed_data, table_id):\n",
    "    credential = service_account.Credentials.from_service_account_file(\n",
    "            SA_CREDENTIALS_FILE,\n",
    "        )\n",
    "\n",
    "    client = bigquery.Client(\n",
    "        credentials=credential,\n",
    "        project=credential.project_id,\n",
    "    )\n",
    "    \n",
    "    client.insert_rows_json(table_id, transformed_data)\n",
    "    print('berhasil')"
   ]
  },
  {
   "cell_type": "code",
   "execution_count": 43,
   "metadata": {},
   "outputs": [],
   "source": [
    "if __name__ == \"__main__\":\n",
    "    raw_data = extract(url_endpoint)['data']\n",
    "    transformed_data = transform(raw_data)"
   ]
  },
  {
   "cell_type": "code",
   "execution_count": 44,
   "metadata": {},
   "outputs": [
    {
     "name": "stdout",
     "output_type": "stream",
     "text": [
      "berhasil\n"
     ]
    }
   ],
   "source": [
    "table_id = 'kelompok_3_stg.stg_brands'\n",
    "load(transformed_data, table_id)"
   ]
  },
  {
   "cell_type": "code",
   "execution_count": 45,
   "metadata": {
    "tags": []
   },
   "outputs": [
    {
     "name": "stdout",
     "output_type": "stream",
     "text": [
      "{'super_key': '87973a3b8069b818cc15a76add5d6632', 'raw_brand': '{\"brand_id\": 59, \"brand_name\": \"Acer\", \"brand_slug\": \"acer-phones-59\", \"device_count\": 100, \"detail\": \"http://api-mobilespecs.azharimm.site/v2/brands/acer-phones-59\"}', 'input-time': '2022-08-25 20:39:56'}\n"
     ]
    }
   ],
   "source": [
    "print(transformed_data[0])"
   ]
  }
 ],
 "metadata": {
  "kernelspec": {
   "display_name": "Python 3",
   "language": "python",
   "name": "python3"
  },
  "language_info": {
   "codemirror_mode": {
    "name": "ipython",
    "version": 3
   },
   "file_extension": ".py",
   "mimetype": "text/x-python",
   "name": "python",
   "nbconvert_exporter": "python",
   "pygments_lexer": "ipython3",
   "version": "3.8.5"
  },
  "toc-autonumbering": true
 },
 "nbformat": 4,
 "nbformat_minor": 4
}
