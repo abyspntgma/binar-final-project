{
 "cells": [
  {
   "cell_type": "code",
   "execution_count": null,
   "metadata": {},
   "outputs": [],
   "source": [
    "import requests\n",
    "import hashlib\n",
    "import json\n",
    "from datetime import datetime as dt\n",
    "from google.cloud import bigquery\n",
    "from google.oauth2 import service_account"
   ]
  },
  {
   "cell_type": "code",
   "execution_count": null,
   "metadata": {},
   "outputs": [],
   "source": [
    "url_endpoint_1 = 'http://api-mobilespecs.azharimm.site/v2/lenovo_m10_plus-10360'\n",
    "url_endpoint_2 = 'http://api-mobilespecs.azharimm.site/v2/lenovo_z6-9757'\n",
    "url_endpoint_3 = 'http://api-mobilespecs.azharimm.site/v2/lenovo_legion_y70-11747'\n",
    "url_endpoint_4 = 'http://api-mobilespecs.azharimm.site/v2/lenovo_k13_pro-10971'\n",
    "url_endpoint_5 = 'http://api-mobilespecs.azharimm.site/v2/lenovo_legion_2_pro-10827'\n",
    "url_endpoint_6 = 'http://api-mobilespecs.azharimm.site/v2/xiaomi_poco_m4_5g-11762'\n",
    "url_endpoint_7 = 'http://api-mobilespecs.azharimm.site/v2/xiaomi_mix_fold_2-11758'\n",
    "url_endpoint_8 = 'http://api-mobilespecs.azharimm.site/v2/xiaomi_12s_ultra-11614'\n",
    "url_endpoint_9 = 'http://api-mobilespecs.azharimm.site/v2/xiaomi_redmi_note_11se-11551'\n",
    "url_endpoint_10 = 'http://api-mobilespecs.azharimm.site/v2/xiaomi_black_shark_5-11454'\n",
    "url_endpoint_11 = 'http://api-mobilespecs.azharimm.site/v2/vivo_z3-9370'\n",
    "url_endpoint_12 = 'http://api-mobilespecs.azharimm.site/v2/vivo_y71i-9358'\n",
    "url_endpoint_13 = 'http://api-mobilespecs.azharimm.site/v2/vivo_x23-9312'\n",
    "url_endpoint_14 = 'http://api-mobilespecs.azharimm.site/v2/vivo_v11_(v11_pro)-9298'\n",
    "url_endpoint_15 = 'http://api-mobilespecs.azharimm.site/v2/oppo_reno5_k-10750'\n",
    "url_endpoint_16 = 'http://api-mobilespecs.azharimm.site/v2/oppo_a55_5g-10703'\n",
    "url_endpoint_17 = 'http://api-mobilespecs.azharimm.site/v2/oppo_reno4_f-10478'"
   ]
  },
  {
   "cell_type": "code",
   "execution_count": null,
   "metadata": {},
   "outputs": [],
   "source": [
    "SA_CREDENTIALS_FILE = 'credentials-kelompok-3.json' "
   ]
  },
  {
   "cell_type": "code",
   "execution_count": null,
   "metadata": {},
   "outputs": [],
   "source": [
    "def extract(key):\n",
    "    response = requests.get(key)\n",
    "    return response.json()"
   ]
  },
  {
   "cell_type": "code",
   "execution_count": null,
   "metadata": {},
   "outputs": [],
   "source": [
    "def transform(raw_data):\n",
    "    transformed_data = {\n",
    "            'super_key': hashlib.md5(str(raw_data).encode()).hexdigest(),\n",
    "            'raw_spec': json.dumps(raw_data),\n",
    "            'input_time': dt.now().strftime(\"%Y-%m-%d %H:%M:%S\")\n",
    "            } \n",
    "    return transformed_data"
   ]
  },
  {
   "cell_type": "code",
   "execution_count": null,
   "metadata": {
    "tags": []
   },
   "outputs": [],
   "source": [
    "def load(transformed_data, table_id):\n",
    "    credential = service_account.Credentials.from_service_account_file(\n",
    "            SA_CREDENTIALS_FILE,\n",
    "        )\n",
    "\n",
    "    client = bigquery.Client(\n",
    "        credentials=credential,\n",
    "        project=credential.project_id,\n",
    "    )\n",
    "    \n",
    "    client.insert_rows_json(table_id, transformed_data)\n",
    "    print('berhasil')"
   ]
  },
  {
   "cell_type": "code",
   "execution_count": null,
   "metadata": {},
   "outputs": [],
   "source": [
    "if __name__ == \"__main__\":\n",
    "    raw_data = extract(url_endpoint_1)['data']\n",
    "    transformed_data = [transform(raw_data)]"
   ]
  },
  {
   "cell_type": "code",
   "execution_count": null,
   "metadata": {},
   "outputs": [],
   "source": [
    "table_id = 'binar-bie7.kelompok_3_stg.stg_spec_phones'\n",
    "load(transformed_data, table_id)"
   ]
  }
 ],
 "metadata": {
  "kernelspec": {
   "display_name": "Python 3",
   "language": "python",
   "name": "python3"
  },
  "language_info": {
   "codemirror_mode": {
    "name": "ipython",
    "version": 3
   },
   "file_extension": ".py",
   "mimetype": "text/x-python",
   "name": "python",
   "nbconvert_exporter": "python",
   "pygments_lexer": "ipython3",
   "version": "3.8.5"
  }
 },
 "nbformat": 4,
 "nbformat_minor": 4
}
