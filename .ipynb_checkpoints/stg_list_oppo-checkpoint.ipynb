{
 "cells": [
  {
   "cell_type": "code",
   "execution_count": 9,
   "metadata": {},
   "outputs": [],
   "source": [
    "import requests\n",
    "import hashlib\n",
    "import json\n",
    "from datetime import datetime as dt\n",
    "from google.cloud import bigquery\n",
    "from google.oauth2 import service_account"
   ]
  },
  {
   "cell_type": "code",
   "execution_count": 10,
   "metadata": {},
   "outputs": [],
   "source": [
    "url_endpoint = 'http://api-mobilespecs.azharimm.site/v2/brands/vivo-phones-98?page=7'\n",
    "SA_CREDENTIALS_FILE = 'credentials-kelompok-3.json' "
   ]
  },
  {
   "cell_type": "code",
   "execution_count": 11,
   "metadata": {},
   "outputs": [],
   "source": [
    "def extract(key):\n",
    "    response = requests.get(key)\n",
    "    return response.json()"
   ]
  },
  {
   "cell_type": "code",
   "execution_count": 12,
   "metadata": {},
   "outputs": [],
   "source": [
    "def transform(raw_data):\n",
    "    transformed_data = []\n",
    "    for phones in raw_data:\n",
    "        transformed_data.append(\n",
    "            {\n",
    "                'super_key': hashlib.md5(str(phones).encode()).hexdigest(),\n",
    "                'raw_phones': json.dumps(phones),\n",
    "                'input_time': dt.now().strftime(\"%Y-%m-%d %H:%M:%S\")\n",
    "            }\n",
    "        )\n",
    "    return transformed_data"
   ]
  },
  {
   "cell_type": "code",
   "execution_count": 13,
   "metadata": {},
   "outputs": [],
   "source": [
    "def load(transformed_data, table_id):\n",
    "    credential = service_account.Credentials.from_service_account_file(\n",
    "            SA_CREDENTIALS_FILE,\n",
    "        )\n",
    "\n",
    "    client = bigquery.Client(\n",
    "        credentials=credential,\n",
    "        project=credential.project_id,\n",
    "    )\n",
    "    \n",
    "    client.insert_rows_json(table_id, transformed_data)\n",
    "    print('berhasil')"
   ]
  },
  {
   "cell_type": "code",
   "execution_count": 14,
   "metadata": {},
   "outputs": [],
   "source": [
    "if __name__ == \"__main__\":\n",
    "    raw_data = extract(url_endpoint)['data']['phones']\n",
    "    transformed_data = transform(raw_data)"
   ]
  },
  {
   "cell_type": "code",
   "execution_count": 15,
   "metadata": {},
   "outputs": [
    {
     "name": "stdout",
     "output_type": "stream",
     "text": [
      "berhasil\n"
     ]
    }
   ],
   "source": [
    "table_id = 'binar-bie7.kelompok_3_stg.stg_list_vivo'\n",
    "load(transformed_data, table_id)"
   ]
  },
  {
   "cell_type": "code",
   "execution_count": null,
   "metadata": {},
   "outputs": [],
   "source": []
  }
 ],
 "metadata": {
  "kernelspec": {
   "display_name": "Python 3",
   "language": "python",
   "name": "python3"
  },
  "language_info": {
   "codemirror_mode": {
    "name": "ipython",
    "version": 3
   },
   "file_extension": ".py",
   "mimetype": "text/x-python",
   "name": "python",
   "nbconvert_exporter": "python",
   "pygments_lexer": "ipython3",
   "version": "3.8.5"
  }
 },
 "nbformat": 4,
 "nbformat_minor": 4
}
