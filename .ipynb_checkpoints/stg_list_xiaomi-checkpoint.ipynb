{
 "cells": [
  {
   "cell_type": "code",
   "execution_count": 9,
   "metadata": {},
   "outputs": [],
   "source": [
    "import requests\n",
    "import hashlib\n",
    "import json\n",
    "from datetime import datetime as dt\n",
    "from google.cloud import bigquery\n",
    "from google.oauth2 import service_account"
   ]
  },
  {
   "cell_type": "code",
   "execution_count": 10,
   "metadata": {},
   "outputs": [],
   "source": [
    "url_endpoint = 'http://api-mobilespecs.azharimm.site/v2/brands/xiaomi-phones-80?page=1'\n",
    "SA_CREDENTIALS_FILE = 'credentials-kelompok-3.json' "
   ]
  },
  {
   "cell_type": "code",
   "execution_count": 11,
   "metadata": {},
   "outputs": [],
   "source": [
    "def extract(key):\n",
    "    response = requests.get(key)\n",
    "    return response.json()"
   ]
  },
  {
   "cell_type": "code",
   "execution_count": 12,
   "metadata": {},
   "outputs": [],
   "source": [
    "def transform(raw_data):\n",
    "    transformed_data = []\n",
    "    for phones in raw_data:\n",
    "        transformed_data.append(\n",
    "            {\n",
    "                'super_key': hashlib.md5(str(phones).encode()).hexdigest(),\n",
    "                'raw_phones': json.dumps(phones),\n",
    "                'input_time': dt.now().strftime(\"%Y-%m-%d %H:%M:%S\")\n",
    "            }\n",
    "        )\n",
    "    return transformed_data"
   ]
  },
  {
   "cell_type": "code",
   "execution_count": 13,
   "metadata": {},
   "outputs": [],
   "source": [
    "def load(transformed_data, table_id):\n",
    "    credential = service_account.Credentials.from_service_account_file(\n",
    "            SA_CREDENTIALS_FILE,\n",
    "        )\n",
    "\n",
    "    client = bigquery.Client(\n",
    "        credentials=credential,\n",
    "        project=credential.project_id,\n",
    "    )\n",
    "    \n",
    "    client.insert_rows_json(table_id, transformed_data)\n",
    "    print('berhasil')"
   ]
  },
  {
   "cell_type": "code",
   "execution_count": 14,
   "metadata": {},
   "outputs": [],
   "source": [
    "if __name__ == \"__main__\":\n",
    "    raw_data = extract(url_endpoint)['data']['phones']\n",
    "    transformed_data = transform(raw_data)"
   ]
  },
  {
   "cell_type": "code",
   "execution_count": 15,
   "metadata": {},
   "outputs": [
    {
     "name": "stdout",
     "output_type": "stream",
     "text": [
      "berhasil\n"
     ]
    }
   ],
   "source": [
    "table_id = 'binar-bie7.kelompok_3_stg.stg_list_xiaomi'\n",
    "load(transformed_data, table_id)"
   ]
  },
  {
   "cell_type": "code",
   "execution_count": 16,
   "metadata": {},
   "outputs": [
    {
     "name": "stdout",
     "output_type": "stream",
     "text": [
      "[{'super_key': 'a6d18526e98c7b44afb3e46685d62c11', 'raw_phones': '{\"brand\": \"Lenovo \", \"phone_name\": \"Pad Pro 2022\", \"slug\": \"lenovo_pad_pro_2022-11783\", \"image\": \"https://fdn2.gsmarena.com/vv/bigpic/lenovo-pad-pro-2022.jpg\", \"detail\": \"http://api-mobilespecs.azharimm.site/v2/lenovo_pad_pro_2022-11783\"}', 'input_time': '2022-08-27 01:04:03'}, {'super_key': 'cd478142b4d2743f03fce52cffd6982f', 'raw_phones': '{\"brand\": \"Lenovo \", \"phone_name\": \"Legion Y70\", \"slug\": \"lenovo_legion_y70-11747\", \"image\": \"https://fdn2.gsmarena.com/vv/bigpic/lenovo-legion-y70.jpg\", \"detail\": \"http://api-mobilespecs.azharimm.site/v2/lenovo_legion_y70-11747\"}', 'input_time': '2022-08-27 01:04:03'}, {'super_key': 'e3ac5dc91bf39a135ca19201ad9c6ca7', 'raw_phones': '{\"brand\": \"Lenovo \", \"phone_name\": \"Tab M10 Plus (3rd Gen)\", \"slug\": \"lenovo_tab_m10_plus_(3rd_gen)-11711\", \"image\": \"https://fdn2.gsmarena.com/vv/bigpic/lenovo-tabm10plus.jpg\", \"detail\": \"http://api-mobilespecs.azharimm.site/v2/lenovo_tab_m10_plus_(3rd_gen)-11711\"}', 'input_time': '2022-08-27 01:04:03'}, {'super_key': 'e52874b9ba22f25b5e4aa5ca4e60f8f4', 'raw_phones': '{\"brand\": \"Lenovo \", \"phone_name\": \"Legion Y700\", \"slug\": \"lenovo_legion_y700-11394\", \"image\": \"https://fdn2.gsmarena.com/vv/bigpic/lenovo-legion-y700.jpg\", \"detail\": \"http://api-mobilespecs.azharimm.site/v2/lenovo_legion_y700-11394\"}', 'input_time': '2022-08-27 01:04:03'}, {'super_key': '9e888de6b857580438b95cb357715668', 'raw_phones': '{\"brand\": \"Lenovo \", \"phone_name\": \"Legion Y90\", \"slug\": \"lenovo_legion_y90-11331\", \"image\": \"https://fdn2.gsmarena.com/vv/bigpic/lenovo-legion-y90.jpg\", \"detail\": \"http://api-mobilespecs.azharimm.site/v2/lenovo_legion_y90-11331\"}', 'input_time': '2022-08-27 01:04:03'}, {'super_key': '4b10a35d5f59ee2b2dbf39d78c46894b', 'raw_phones': '{\"brand\": \"Lenovo \", \"phone_name\": \"Tab K10\", \"slug\": \"lenovo_tab_k10-11143\", \"image\": \"https://fdn2.gsmarena.com/vv/bigpic/lenovo-tab-k10.jpg\", \"detail\": \"http://api-mobilespecs.azharimm.site/v2/lenovo_tab_k10-11143\"}', 'input_time': '2022-08-27 01:04:03'}, {'super_key': '45e5438e8333df633d77d7ddc35f7617', 'raw_phones': '{\"brand\": \"Lenovo \", \"phone_name\": \"Tab P12 Pro\", \"slug\": \"lenovo_tab_p12_pro-11090\", \"image\": \"https://fdn2.gsmarena.com/vv/bigpic/lenovo-tab-p12-pro-.jpg\", \"detail\": \"http://api-mobilespecs.azharimm.site/v2/lenovo_tab_p12_pro-11090\"}', 'input_time': '2022-08-27 01:04:03'}, {'super_key': '4775e9040b633991b28e9601bf4962b7', 'raw_phones': '{\"brand\": \"Lenovo \", \"phone_name\": \"Tab P11 5G\", \"slug\": \"lenovo_tab_p11_5g-11091\", \"image\": \"https://fdn2.gsmarena.com/vv/bigpic/lenovo-tab-p11-5g.jpg\", \"detail\": \"http://api-mobilespecs.azharimm.site/v2/lenovo_tab_p11_5g-11091\"}', 'input_time': '2022-08-27 01:04:03'}, {'super_key': '962bbc07756e992e6a1325708507ca21', 'raw_phones': '{\"brand\": \"Lenovo \", \"phone_name\": \"K13 Pro\", \"slug\": \"lenovo_k13_pro-10971\", \"image\": \"https://fdn2.gsmarena.com/vv/bigpic/lenovo-k13-pro.jpg\", \"detail\": \"http://api-mobilespecs.azharimm.site/v2/lenovo_k13_pro-10971\"}', 'input_time': '2022-08-27 01:04:03'}, {'super_key': '72f8cfcf683bb25bbb478faffe371a9b', 'raw_phones': '{\"brand\": \"Lenovo \", \"phone_name\": \"K13\", \"slug\": \"lenovo_k13-10972\", \"image\": \"https://fdn2.gsmarena.com/vv/bigpic/lenovo-k13.jpg\", \"detail\": \"http://api-mobilespecs.azharimm.site/v2/lenovo_k13-10972\"}', 'input_time': '2022-08-27 01:04:03'}, {'super_key': 'e96b46ee7f22a100da50cb89d626a6ba', 'raw_phones': '{\"brand\": \"Lenovo \", \"phone_name\": \"Yoga Tab 11\", \"slug\": \"lenovo_yoga_tab_11-10988\", \"image\": \"https://fdn2.gsmarena.com/vv/bigpic/lenovo-yoga-tab-11.jpg\", \"detail\": \"http://api-mobilespecs.azharimm.site/v2/lenovo_yoga_tab_11-10988\"}', 'input_time': '2022-08-27 01:04:03'}, {'super_key': 'f09f81ba3971b1363c83f0a1639c8839', 'raw_phones': '{\"brand\": \"Lenovo \", \"phone_name\": \"Tab P11 Plus\", \"slug\": \"lenovo_tab_p11_plus-10990\", \"image\": \"https://fdn2.gsmarena.com/vv/bigpic/lenovo-tab-p11.jpg\", \"detail\": \"http://api-mobilespecs.azharimm.site/v2/lenovo_tab_p11_plus-10990\"}', 'input_time': '2022-08-27 01:04:03'}, {'super_key': '08931549fe2a2b67f081916efd7f9e90', 'raw_phones': '{\"brand\": \"Lenovo \", \"phone_name\": \"Tab M8 (3rd Gen)\", \"slug\": \"lenovo_tab_m8_(3rd_gen)-10991\", \"image\": \"https://fdn2.gsmarena.com/vv/bigpic/lenovo-tab-m8-3.jpg\", \"detail\": \"http://api-mobilespecs.azharimm.site/v2/lenovo_tab_m8_(3rd_gen)-10991\"}', 'input_time': '2022-08-27 01:04:03'}, {'super_key': '5291f234b9b8574ddbf09ea733fb57cf', 'raw_phones': '{\"brand\": \"Lenovo \", \"phone_name\": \"Tab M7 (3rd Gen)\", \"slug\": \"lenovo_tab_m7_(3rd_gen)-10992\", \"image\": \"https://fdn2.gsmarena.com/vv/bigpic/lenovo-tab-m7-3.jpg\", \"detail\": \"http://api-mobilespecs.azharimm.site/v2/lenovo_tab_m7_(3rd_gen)-10992\"}', 'input_time': '2022-08-27 01:04:03'}, {'super_key': '6c1f4af9a90a42c54fc2df167eda3a5d', 'raw_phones': '{\"brand\": \"Lenovo \", \"phone_name\": \"K13 Note\", \"slug\": \"lenovo_k13_note-10970\", \"image\": \"https://fdn2.gsmarena.com/vv/bigpic/lenovo-k13-note.jpg\", \"detail\": \"http://api-mobilespecs.azharimm.site/v2/lenovo_k13_note-10970\"}', 'input_time': '2022-08-27 01:04:03'}, {'super_key': 'a1bd897697f29b94fa11e8086a830bb4', 'raw_phones': '{\"brand\": \"Lenovo \", \"phone_name\": \"Yoga Tab 13\", \"slug\": \"lenovo_yoga_tab_13-10924\", \"image\": \"https://fdn2.gsmarena.com/vv/bigpic/lenovo-yoga-pad-pro.jpg\", \"detail\": \"http://api-mobilespecs.azharimm.site/v2/lenovo_yoga_tab_13-10924\"}', 'input_time': '2022-08-27 01:04:03'}, {'super_key': '617822a9e32be34c87c1849c9bb62018', 'raw_phones': '{\"brand\": \"Lenovo \", \"phone_name\": \"Pad Pro\", \"slug\": \"lenovo_pad_pro-10925\", \"image\": \"https://fdn2.gsmarena.com/vv/bigpic/lenovo-pad-pro.jpg\", \"detail\": \"http://api-mobilespecs.azharimm.site/v2/lenovo_pad_pro-10925\"}', 'input_time': '2022-08-27 01:04:03'}, {'super_key': 'c3564431f63bb301db90a205294fbdda', 'raw_phones': '{\"brand\": \"Lenovo \", \"phone_name\": \"Pad Plus\", \"slug\": \"lenovo_pad_plus-10927\", \"image\": \"https://fdn2.gsmarena.com/vv/bigpic/lenovo-pad-plus-2021.jpg\", \"detail\": \"http://api-mobilespecs.azharimm.site/v2/lenovo_pad_plus-10927\"}', 'input_time': '2022-08-27 01:04:03'}, {'super_key': 'b5eb3711f26d40d18ee31db28f31000e', 'raw_phones': '{\"brand\": \"Lenovo \", \"phone_name\": \"Pad\", \"slug\": \"lenovo_pad-10926\", \"image\": \"https://fdn2.gsmarena.com/vv/bigpic/lenovo-pad-2021.jpg\", \"detail\": \"http://api-mobilespecs.azharimm.site/v2/lenovo_pad-10926\"}', 'input_time': '2022-08-27 01:04:03'}, {'super_key': 'eaeece5ffff2b2a88e1afa5a12671c73', 'raw_phones': '{\"brand\": \"Lenovo \", \"phone_name\": \"Legion 2 Pro\", \"slug\": \"lenovo_legion_2_pro-10827\", \"image\": \"https://fdn2.gsmarena.com/vv/bigpic/lenovo-legion-2-pro-phone-duel2-1.jpg\", \"detail\": \"http://api-mobilespecs.azharimm.site/v2/lenovo_legion_2_pro-10827\"}', 'input_time': '2022-08-27 01:04:03'}, {'super_key': '915c20ed297e691e4ff70df02bcc2ab9', 'raw_phones': '{\"brand\": \"Lenovo \", \"phone_name\": \"Legion Duel 2\", \"slug\": \"lenovo_legion_duel_2-10839\", \"image\": \"https://fdn2.gsmarena.com/vv/bigpic/lenovo-legion-2-pro-phone-duel2-1.jpg\", \"detail\": \"http://api-mobilespecs.azharimm.site/v2/lenovo_legion_duel_2-10839\"}', 'input_time': '2022-08-27 01:04:03'}, {'super_key': 'b5ddef25daf60145b355930e29aa45d5', 'raw_phones': '{\"brand\": \"Lenovo \", \"phone_name\": \"K12 Pro\", \"slug\": \"lenovo_k12_pro-10605\", \"image\": \"https://fdn2.gsmarena.com/vv/bigpic/lenovo-k12-pro.jpg\", \"detail\": \"http://api-mobilespecs.azharimm.site/v2/lenovo_k12_pro-10605\"}', 'input_time': '2022-08-27 01:04:03'}, {'super_key': '01df340c8c1be0464e7b64360ba4ef25', 'raw_phones': '{\"brand\": \"Lenovo \", \"phone_name\": \"K12 (China)\", \"slug\": \"lenovo_k12_(china)-10630\", \"image\": \"https://fdn2.gsmarena.com/vv/bigpic/lenovo-k12.jpg\", \"detail\": \"http://api-mobilespecs.azharimm.site/v2/lenovo_k12_(china)-10630\"}', 'input_time': '2022-08-27 01:04:03'}, {'super_key': 'ae65f9ff73b9ae9797b3c9874405b67b', 'raw_phones': '{\"brand\": \"Lenovo \", \"phone_name\": \"A8 2020\", \"slug\": \"lenovo_a8_2020-10733\", \"image\": \"https://fdn2.gsmarena.com/vv/bigpic/lenovo-a8-2020.jpg\", \"detail\": \"http://api-mobilespecs.azharimm.site/v2/lenovo_a8_2020-10733\"}', 'input_time': '2022-08-27 01:04:03'}, {'super_key': '5d6a4ab9e16c23610d607a9cb4557411', 'raw_phones': '{\"brand\": \"Lenovo \", \"phone_name\": \"Tab P11 Pro\", \"slug\": \"lenovo_tab_p11_pro-10405\", \"image\": \"https://fdn2.gsmarena.com/vv/bigpic/lenovo-tab-p11-pro.jpg\", \"detail\": \"http://api-mobilespecs.azharimm.site/v2/lenovo_tab_p11_pro-10405\"}', 'input_time': '2022-08-27 01:04:03'}, {'super_key': 'c4c0fbc0895f8e8e5d8602134810a756', 'raw_phones': '{\"brand\": \"Lenovo \", \"phone_name\": \"Tab P11\", \"slug\": \"lenovo_tab_p11-10686\", \"image\": \"https://fdn2.gsmarena.com/vv/bigpic/lenovo-tab-p11.jpg\", \"detail\": \"http://api-mobilespecs.azharimm.site/v2/lenovo_tab_p11-10686\"}', 'input_time': '2022-08-27 01:04:03'}, {'super_key': 'cc01e2267f544a69422251f73d6bc963', 'raw_phones': '{\"brand\": \"Lenovo \", \"phone_name\": \"Tab M10 HD Gen 2\", \"slug\": \"lenovo_tab_m10_hd_gen_2-10406\", \"image\": \"https://fdn2.gsmarena.com/vv/bigpic/lenovo-tab-m10-hd-gen2--.jpg\", \"detail\": \"http://api-mobilespecs.azharimm.site/v2/lenovo_tab_m10_hd_gen_2-10406\"}', 'input_time': '2022-08-27 01:04:03'}, {'super_key': 'afee802166fede3f2f69d2b190e8dd48', 'raw_phones': '{\"brand\": \"Lenovo \", \"phone_name\": \"Legion Duel\", \"slug\": \"lenovo_legion_duel-10329\", \"image\": \"https://fdn2.gsmarena.com/vv/bigpic/lenovo-legion-.jpg\", \"detail\": \"http://api-mobilespecs.azharimm.site/v2/lenovo_legion_duel-10329\"}', 'input_time': '2022-08-27 01:04:03'}, {'super_key': 'bcb3aad8d1b840e2b7641e66e13d5ef7', 'raw_phones': '{\"brand\": \"Lenovo \", \"phone_name\": \"Legion Pro\", \"slug\": \"lenovo_legion_pro-10224\", \"image\": \"https://fdn2.gsmarena.com/vv/bigpic/lenovo-legion-.jpg\", \"detail\": \"http://api-mobilespecs.azharimm.site/v2/lenovo_legion_pro-10224\"}', 'input_time': '2022-08-27 01:04:03'}, {'super_key': '2679360f5559b52d4a013b76760a6c90', 'raw_phones': '{\"brand\": \"Lenovo \", \"phone_name\": \"A7\", \"slug\": \"lenovo_a7-10566\", \"image\": \"https://fdn2.gsmarena.com/vv/bigpic/lenovo-a7.jpg\", \"detail\": \"http://api-mobilespecs.azharimm.site/v2/lenovo_a7-10566\"}', 'input_time': '2022-08-27 01:04:03'}, {'super_key': 'ed69234ef2ff565c47c989357ec52821', 'raw_phones': '{\"brand\": \"Lenovo \", \"phone_name\": \"M10 Plus\", \"slug\": \"lenovo_m10_plus-10360\", \"image\": \"https://fdn2.gsmarena.com/vv/bigpic/lenovo-m10-plus.jpg\", \"detail\": \"http://api-mobilespecs.azharimm.site/v2/lenovo_m10_plus-10360\"}', 'input_time': '2022-08-27 01:04:03'}, {'super_key': '2c11c1ecd59b11864ebc7cd69bbaf66d', 'raw_phones': '{\"brand\": \"Lenovo \", \"phone_name\": \"M10 FHD REL\", \"slug\": \"lenovo_m10_fhd_rel-10049\", \"image\": \"https://fdn2.gsmarena.com/vv/bigpic/lenovo-m10-fhd-rel.jpg\", \"detail\": \"http://api-mobilespecs.azharimm.site/v2/lenovo_m10_fhd_rel-10049\"}', 'input_time': '2022-08-27 01:04:03'}, {'super_key': 'a4ab4f3ff47fe82e29fe0b2c824d6c6e', 'raw_phones': '{\"brand\": \"Lenovo \", \"phone_name\": \"Yoga Smart Tab\", \"slug\": \"lenovo_yoga_smart_tab-9959\", \"image\": \"https://fdn2.gsmarena.com/vv/bigpic/lenovo-yoga-smart-tab.jpg\", \"detail\": \"http://api-mobilespecs.azharimm.site/v2/lenovo_yoga_smart_tab-9959\"}', 'input_time': '2022-08-27 01:04:03'}, {'super_key': '7d108d31ce1b5f436277ed585dc2bb9a', 'raw_phones': '{\"brand\": \"Lenovo \", \"phone_name\": \"K10 Plus\", \"slug\": \"lenovo_k10_plus-9882\", \"image\": \"https://fdn2.gsmarena.com/vv/bigpic/lenovo-k10-plus.jpg\", \"detail\": \"http://api-mobilespecs.azharimm.site/v2/lenovo_k10_plus-9882\"}', 'input_time': '2022-08-27 01:04:03'}, {'super_key': '33a014149a205f9df3bebeccf9f31bdd', 'raw_phones': '{\"brand\": \"Lenovo \", \"phone_name\": \"K10 Note\", \"slug\": \"lenovo_k10_note-9821\", \"image\": \"https://fdn2.gsmarena.com/vv/bigpic/lenovo-z6-youth.jpg\", \"detail\": \"http://api-mobilespecs.azharimm.site/v2/lenovo_k10_note-9821\"}', 'input_time': '2022-08-27 01:04:03'}, {'super_key': '441bbdbd2be0494f1241b8dd3dc959b9', 'raw_phones': '{\"brand\": \"Lenovo \", \"phone_name\": \"A6 Note\", \"slug\": \"lenovo_a6_note-9822\", \"image\": \"https://fdn2.gsmarena.com/vv/bigpic/lenovo-a6-note-.jpg\", \"detail\": \"http://api-mobilespecs.azharimm.site/v2/lenovo_a6_note-9822\"}', 'input_time': '2022-08-27 01:04:03'}, {'super_key': 'ee41206144a75733482da973c8b3b887', 'raw_phones': '{\"brand\": \"Lenovo \", \"phone_name\": \"Tab M8 (FHD)\", \"slug\": \"lenovo_tab_m8_(fhd)-9826\", \"image\": \"https://fdn2.gsmarena.com/vv/bigpic/lenovo-tab-m8-HD.jpg\", \"detail\": \"http://api-mobilespecs.azharimm.site/v2/lenovo_tab_m8_(fhd)-9826\"}', 'input_time': '2022-08-27 01:04:03'}, {'super_key': '3f2e97c6cdd953162fd090b7dbd3d8a7', 'raw_phones': '{\"brand\": \"Lenovo \", \"phone_name\": \"Tab M8 (HD)\", \"slug\": \"lenovo_tab_m8_(hd)-9825\", \"image\": \"https://fdn2.gsmarena.com/vv/bigpic/lenovo-tab-m8-HD.jpg\", \"detail\": \"http://api-mobilespecs.azharimm.site/v2/lenovo_tab_m8_(hd)-9825\"}', 'input_time': '2022-08-27 01:04:03'}, {'super_key': '1eeb943300a369485647c75d45d8a76e', 'raw_phones': '{\"brand\": \"Lenovo \", \"phone_name\": \"Tab M7\", \"slug\": \"lenovo_tab_m7-9824\", \"image\": \"https://fdn2.gsmarena.com/vv/bigpic/lenovo-tab-m7.jpg\", \"detail\": \"http://api-mobilespecs.azharimm.site/v2/lenovo_tab_m7-9824\"}', 'input_time': '2022-08-27 01:04:03'}, {'super_key': 'e8d1dc4411999d0724c83d1221ba0112', 'raw_phones': '{\"brand\": \"Lenovo \", \"phone_name\": \"Z6\", \"slug\": \"lenovo_z6-9757\", \"image\": \"https://fdn2.gsmarena.com/vv/bigpic/lenovo-z6.jpg\", \"detail\": \"http://api-mobilespecs.azharimm.site/v2/lenovo_z6-9757\"}', 'input_time': '2022-08-27 01:04:03'}]\n"
     ]
    }
   ],
   "source": [
    "print(transformed_data)"
   ]
  },
  {
   "cell_type": "code",
   "execution_count": null,
   "metadata": {},
   "outputs": [],
   "source": []
  }
 ],
 "metadata": {
  "kernelspec": {
   "display_name": "Python 3",
   "language": "python",
   "name": "python3"
  },
  "language_info": {
   "codemirror_mode": {
    "name": "ipython",
    "version": 3
   },
   "file_extension": ".py",
   "mimetype": "text/x-python",
   "name": "python",
   "nbconvert_exporter": "python",
   "pygments_lexer": "ipython3",
   "version": "3.8.5"
  }
 },
 "nbformat": 4,
 "nbformat_minor": 4
}
